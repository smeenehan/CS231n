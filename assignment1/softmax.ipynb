{
 "cells": [
  {
   "cell_type": "markdown",
   "metadata": {},
   "source": [
    "# Softmax exercise\n",
    "\n",
    "*Complete and hand in this completed worksheet (including its outputs and any supporting code outside of the worksheet) with your assignment submission. For more details see the [assignments page](http://vision.stanford.edu/teaching/cs231n/assignments.html) on the course website.*\n",
    "\n",
    "This exercise is analogous to the SVM exercise. You will:\n",
    "\n",
    "- implement a fully-vectorized **loss function** for the Softmax classifier\n",
    "- implement the fully-vectorized expression for its **analytic gradient**\n",
    "- **check your implementation** with numerical gradient\n",
    "- use a validation set to **tune the learning rate and regularization** strength\n",
    "- **optimize** the loss function with **SGD**\n",
    "- **visualize** the final learned weights\n"
   ]
  },
  {
   "cell_type": "code",
   "execution_count": 1,
   "metadata": {},
   "outputs": [],
   "source": [
    "import random\n",
    "import numpy as np\n",
    "from cs231n.data_utils import load_CIFAR10\n",
    "import matplotlib.pyplot as plt\n",
    "\n",
    "from __future__ import print_function\n",
    "\n",
    "%matplotlib inline\n",
    "plt.rcParams['figure.figsize'] = (10.0, 8.0) # set default size of plots\n",
    "plt.rcParams['image.interpolation'] = 'nearest'\n",
    "plt.rcParams['image.cmap'] = 'gray'\n",
    "\n",
    "# for auto-reloading extenrnal modules\n",
    "# see http://stackoverflow.com/questions/1907993/autoreload-of-modules-in-ipython\n",
    "%load_ext autoreload\n",
    "%autoreload 2"
   ]
  },
  {
   "cell_type": "code",
   "execution_count": 2,
   "metadata": {},
   "outputs": [
    {
     "name": "stdout",
     "output_type": "stream",
     "text": [
      "Train data shape:  (49000, 3073)\n",
      "Train labels shape:  (49000,)\n",
      "Validation data shape:  (1000, 3073)\n",
      "Validation labels shape:  (1000,)\n",
      "Test data shape:  (1000, 3073)\n",
      "Test labels shape:  (1000,)\n",
      "dev data shape:  (500, 3073)\n",
      "dev labels shape:  (500,)\n"
     ]
    }
   ],
   "source": [
    "def get_CIFAR10_data(num_training=49000, num_validation=1000, num_test=1000, num_dev=500):\n",
    "    \"\"\"\n",
    "    Load the CIFAR-10 dataset from disk and perform preprocessing to prepare\n",
    "    it for the linear classifier. These are the same steps as we used for the\n",
    "    SVM, but condensed to a single function.  \n",
    "    \"\"\"\n",
    "    # Load the raw CIFAR-10 data\n",
    "    cifar10_dir = 'cs231n/datasets/cifar-10-batches-py'\n",
    "    X_train, y_train, X_test, y_test = load_CIFAR10(cifar10_dir)\n",
    "    \n",
    "    # subsample the data\n",
    "    mask = list(range(num_training, num_training + num_validation))\n",
    "    X_val = X_train[mask]\n",
    "    y_val = y_train[mask]\n",
    "    mask = list(range(num_training))\n",
    "    X_train = X_train[mask]\n",
    "    y_train = y_train[mask]\n",
    "    mask = list(range(num_test))\n",
    "    X_test = X_test[mask]\n",
    "    y_test = y_test[mask]\n",
    "    mask = np.random.choice(num_training, num_dev, replace=False)\n",
    "    X_dev = X_train[mask]\n",
    "    y_dev = y_train[mask]\n",
    "    \n",
    "    # Preprocessing: reshape the image data into rows\n",
    "    X_train = np.reshape(X_train, (X_train.shape[0], -1))\n",
    "    X_val = np.reshape(X_val, (X_val.shape[0], -1))\n",
    "    X_test = np.reshape(X_test, (X_test.shape[0], -1))\n",
    "    X_dev = np.reshape(X_dev, (X_dev.shape[0], -1))\n",
    "    \n",
    "    # Normalize the data: subtract the mean image\n",
    "    mean_image = np.mean(X_train, axis = 0)\n",
    "    X_train -= mean_image\n",
    "    X_val -= mean_image\n",
    "    X_test -= mean_image\n",
    "    X_dev -= mean_image\n",
    "    \n",
    "    # add bias dimension and transform into columns\n",
    "    X_train = np.hstack([X_train, np.ones((X_train.shape[0], 1))])\n",
    "    X_val = np.hstack([X_val, np.ones((X_val.shape[0], 1))])\n",
    "    X_test = np.hstack([X_test, np.ones((X_test.shape[0], 1))])\n",
    "    X_dev = np.hstack([X_dev, np.ones((X_dev.shape[0], 1))])\n",
    "    \n",
    "    return X_train, y_train, X_val, y_val, X_test, y_test, X_dev, y_dev\n",
    "\n",
    "\n",
    "# Invoke the above function to get our data.\n",
    "X_train, y_train, X_val, y_val, X_test, y_test, X_dev, y_dev = get_CIFAR10_data()\n",
    "print('Train data shape: ', X_train.shape)\n",
    "print('Train labels shape: ', y_train.shape)\n",
    "print('Validation data shape: ', X_val.shape)\n",
    "print('Validation labels shape: ', y_val.shape)\n",
    "print('Test data shape: ', X_test.shape)\n",
    "print('Test labels shape: ', y_test.shape)\n",
    "print('dev data shape: ', X_dev.shape)\n",
    "print('dev labels shape: ', y_dev.shape)"
   ]
  },
  {
   "cell_type": "markdown",
   "metadata": {},
   "source": [
    "## Softmax Classifier\n",
    "\n",
    "Your code for this section will all be written inside **cs231n/classifiers/softmax.py**. \n"
   ]
  },
  {
   "cell_type": "code",
   "execution_count": 18,
   "metadata": {},
   "outputs": [
    {
     "name": "stdout",
     "output_type": "stream",
     "text": [
      "loss: 2.335976\n",
      "sanity check: 2.302585\n"
     ]
    }
   ],
   "source": [
    "# First implement the naive softmax loss function with nested loops.\n",
    "# Open the file cs231n/classifiers/softmax.py and implement the\n",
    "# softmax_loss_naive function.\n",
    "\n",
    "from cs231n.classifiers.softmax import softmax_loss_naive\n",
    "import time\n",
    "\n",
    "# Generate a random softmax weight matrix and use it to compute the loss.\n",
    "W = np.random.randn(3073, 10) * 0.0001\n",
    "loss, grad = softmax_loss_naive(W, X_dev, y_dev, 0.0)\n",
    "\n",
    "# As a rough sanity check, our loss should be something close to -log(0.1).\n",
    "print('loss: %f' % loss)\n",
    "print('sanity check: %f' % (-np.log(0.1)))"
   ]
  },
  {
   "cell_type": "markdown",
   "metadata": {},
   "source": [
    "## Inline Question 1:\n",
    "Why do we expect our loss to be close to -log(0.1)? Explain briefly.**\n",
    "\n",
    "**Your answer:** With random weights, we should on average predict a roughly uniform distribution among the classes. Since there are 10 classes, and since in a softmax classifer the predictions are normalized to 1 by design, the prediction (likelihood) of any class should be roughly 0.1. Thus, the average loss (negative log-likelihood) should be about $-\\text{log}(0.1)$.\n"
   ]
  },
  {
   "cell_type": "code",
   "execution_count": 19,
   "metadata": {},
   "outputs": [
    {
     "name": "stdout",
     "output_type": "stream",
     "text": [
      "numerical: 0.639832 analytic: 0.639832, relative error: 1.424067e-07\n",
      "numerical: -1.253927 analytic: -1.253927, relative error: 4.152784e-08\n",
      "numerical: 0.532088 analytic: 0.532088, relative error: 4.429864e-09\n",
      "numerical: 0.491368 analytic: 0.491368, relative error: 5.707462e-08\n",
      "numerical: -0.914869 analytic: -0.914869, relative error: 2.341027e-08\n",
      "numerical: -1.010087 analytic: -1.010087, relative error: 1.215303e-08\n",
      "numerical: -1.713667 analytic: -1.713667, relative error: 1.148329e-08\n",
      "numerical: 0.830228 analytic: 0.830228, relative error: 5.783133e-08\n",
      "numerical: 0.349179 analytic: 0.349178, relative error: 6.679320e-08\n",
      "numerical: -0.200774 analytic: -0.200775, relative error: 4.409097e-07\n",
      "numerical: -0.575811 analytic: -0.575811, relative error: 9.141620e-09\n",
      "numerical: -0.661459 analytic: -0.661459, relative error: 9.759266e-08\n",
      "numerical: -0.321801 analytic: -0.321801, relative error: 5.728086e-08\n",
      "numerical: 0.667703 analytic: 0.667702, relative error: 2.588431e-08\n",
      "numerical: 1.181422 analytic: 1.181422, relative error: 2.722526e-08\n",
      "numerical: -4.527499 analytic: -4.527499, relative error: 7.063007e-09\n",
      "numerical: 0.649740 analytic: 0.649740, relative error: 3.576854e-08\n",
      "numerical: -0.635453 analytic: -0.635453, relative error: 8.671359e-08\n",
      "numerical: -0.791369 analytic: -0.791369, relative error: 1.592734e-08\n",
      "numerical: -1.827492 analytic: -1.827492, relative error: 1.393271e-08\n"
     ]
    }
   ],
   "source": [
    "# Complete the implementation of softmax_loss_naive and implement a (naive)\n",
    "# version of the gradient that uses nested loops.\n",
    "loss, grad = softmax_loss_naive(W, X_dev, y_dev, 0.0)\n",
    "\n",
    "# As we did for the SVM, use numeric gradient checking as a debugging tool.\n",
    "# The numeric gradient should be close to the analytic gradient.\n",
    "from cs231n.gradient_check import grad_check_sparse\n",
    "f = lambda w: softmax_loss_naive(w, X_dev, y_dev, 0.0)[0]\n",
    "grad_numerical = grad_check_sparse(f, W, grad, 10)\n",
    "\n",
    "# similar to SVM case, do another gradient check with regularization\n",
    "loss, grad = softmax_loss_naive(W, X_dev, y_dev, 5e1)\n",
    "f = lambda w: softmax_loss_naive(w, X_dev, y_dev, 5e1)[0]\n",
    "grad_numerical = grad_check_sparse(f, W, grad, 10)"
   ]
  },
  {
   "cell_type": "code",
   "execution_count": 26,
   "metadata": {},
   "outputs": [
    {
     "name": "stdout",
     "output_type": "stream",
     "text": [
      "naive loss: 2.335976e+00 computed in 0.123302s\n",
      "vectorized loss: 2.335976e+00 computed in 0.043143s\n",
      "Loss difference: 0.000000\n",
      "Gradient difference: 0.000000\n"
     ]
    }
   ],
   "source": [
    "# Now that we have a naive implementation of the softmax loss function and its gradient,\n",
    "# implement a vectorized version in softmax_loss_vectorized.\n",
    "# The two versions should compute the same results, but the vectorized version should be\n",
    "# much faster.\n",
    "tic = time.time()\n",
    "loss_naive, grad_naive = softmax_loss_naive(W, X_dev, y_dev, 0.000005)\n",
    "toc = time.time()\n",
    "print('naive loss: %e computed in %fs' % (loss_naive, toc - tic))\n",
    "\n",
    "from cs231n.classifiers.softmax import softmax_loss_vectorized\n",
    "tic = time.time()\n",
    "loss_vectorized, grad_vectorized = softmax_loss_vectorized(W, X_dev, y_dev, 0.000005)\n",
    "toc = time.time()\n",
    "print('vectorized loss: %e computed in %fs' % (loss_vectorized, toc - tic))\n",
    "\n",
    "# As we did for the SVM, we use the Frobenius norm to compare the two versions\n",
    "# of the gradient.\n",
    "grad_difference = np.linalg.norm(grad_naive - grad_vectorized, ord='fro')\n",
    "print('Loss difference: %f' % np.abs(loss_naive - loss_vectorized))\n",
    "print('Gradient difference: %f' % grad_difference)"
   ]
  },
  {
   "cell_type": "code",
   "execution_count": 27,
   "metadata": {},
   "outputs": [
    {
     "name": "stdout",
     "output_type": "stream",
     "text": [
      "lr 1.000000e-07 reg 1.000000e+04 train accuracy: 0.351429 val accuracy: 0.377000\n",
      "lr 1.000000e-07 reg 1.444444e+04 train accuracy: 0.348755 val accuracy: 0.358000\n",
      "lr 1.000000e-07 reg 1.888889e+04 train accuracy: 0.337388 val accuracy: 0.355000\n",
      "lr 1.000000e-07 reg 2.333333e+04 train accuracy: 0.326408 val accuracy: 0.349000\n",
      "lr 1.000000e-07 reg 2.777778e+04 train accuracy: 0.320408 val accuracy: 0.338000\n",
      "lr 1.000000e-07 reg 3.222222e+04 train accuracy: 0.319796 val accuracy: 0.329000\n",
      "lr 1.000000e-07 reg 3.666667e+04 train accuracy: 0.312918 val accuracy: 0.333000\n",
      "lr 1.000000e-07 reg 4.111111e+04 train accuracy: 0.309857 val accuracy: 0.331000\n",
      "lr 1.000000e-07 reg 4.555556e+04 train accuracy: 0.312388 val accuracy: 0.324000\n",
      "lr 1.000000e-07 reg 5.000000e+04 train accuracy: 0.302531 val accuracy: 0.314000\n",
      "lr 1.500000e-07 reg 1.000000e+04 train accuracy: 0.357918 val accuracy: 0.384000\n",
      "lr 1.500000e-07 reg 1.444444e+04 train accuracy: 0.345531 val accuracy: 0.365000\n",
      "lr 1.500000e-07 reg 1.888889e+04 train accuracy: 0.341939 val accuracy: 0.345000\n",
      "lr 1.500000e-07 reg 2.333333e+04 train accuracy: 0.337061 val accuracy: 0.347000\n",
      "lr 1.500000e-07 reg 2.777778e+04 train accuracy: 0.326959 val accuracy: 0.334000\n",
      "lr 1.500000e-07 reg 3.222222e+04 train accuracy: 0.317163 val accuracy: 0.334000\n",
      "lr 1.500000e-07 reg 3.666667e+04 train accuracy: 0.315020 val accuracy: 0.330000\n",
      "lr 1.500000e-07 reg 4.111111e+04 train accuracy: 0.313020 val accuracy: 0.332000\n",
      "lr 1.500000e-07 reg 4.555556e+04 train accuracy: 0.313020 val accuracy: 0.327000\n",
      "lr 1.500000e-07 reg 5.000000e+04 train accuracy: 0.307857 val accuracy: 0.328000\n",
      "lr 2.000000e-07 reg 1.000000e+04 train accuracy: 0.354388 val accuracy: 0.367000\n",
      "lr 2.000000e-07 reg 1.444444e+04 train accuracy: 0.345633 val accuracy: 0.360000\n",
      "lr 2.000000e-07 reg 1.888889e+04 train accuracy: 0.339449 val accuracy: 0.351000\n",
      "lr 2.000000e-07 reg 2.333333e+04 train accuracy: 0.328898 val accuracy: 0.345000\n",
      "lr 2.000000e-07 reg 2.777778e+04 train accuracy: 0.326347 val accuracy: 0.342000\n",
      "lr 2.000000e-07 reg 3.222222e+04 train accuracy: 0.324714 val accuracy: 0.331000\n",
      "lr 2.000000e-07 reg 3.666667e+04 train accuracy: 0.321429 val accuracy: 0.332000\n",
      "lr 2.000000e-07 reg 4.111111e+04 train accuracy: 0.313939 val accuracy: 0.327000\n",
      "lr 2.000000e-07 reg 4.555556e+04 train accuracy: 0.312041 val accuracy: 0.330000\n",
      "lr 2.000000e-07 reg 5.000000e+04 train accuracy: 0.311184 val accuracy: 0.323000\n",
      "best validation accuracy achieved during cross-validation: 0.384000\n"
     ]
    }
   ],
   "source": [
    "# Use the validation set to tune hyperparameters (regularization strength and\n",
    "# learning rate). You should experiment with different ranges for the learning\n",
    "# rates and regularization strengths; if you are careful you should be able to\n",
    "# get a classification accuracy of over 0.35 on the validation set.\n",
    "from cs231n.classifiers import Softmax\n",
    "results = {}\n",
    "best_val = -1\n",
    "best_softmax = None\n",
    "learning_rates = [1e-7,1.5e-7,2e-7]\n",
    "regularization_strengths = np.linspace(1e4,5e4,10)\n",
    "\n",
    "for rate in learning_rates:\n",
    "    for reg in regularization_strengths:\n",
    "        softmax = Softmax()\n",
    "        softmax.train(X_train,y_train,learning_rate=rate,reg=reg,num_iters=1500,verbose=False)\n",
    "        y_train_pred = softmax.predict(X_train)\n",
    "        train_accuracy = np.mean(y_train == y_train_pred)\n",
    "        y_val_pred = softmax.predict(X_val)\n",
    "        val_accuracy = np.mean(y_val == y_val_pred)\n",
    "        results[(rate,reg)] = (train_accuracy,val_accuracy)\n",
    "        if val_accuracy > best_val:\n",
    "            best_val = val_accuracy\n",
    "            best_softmax = softmax\n",
    "    \n",
    "# Print out results.\n",
    "for lr, reg in sorted(results):\n",
    "    train_accuracy, val_accuracy = results[(lr, reg)]\n",
    "    print('lr %e reg %e train accuracy: %f val accuracy: %f' % (\n",
    "                lr, reg, train_accuracy, val_accuracy))\n",
    "    \n",
    "print('best validation accuracy achieved during cross-validation: %f' % best_val)"
   ]
  },
  {
   "cell_type": "code",
   "execution_count": 28,
   "metadata": {},
   "outputs": [
    {
     "name": "stdout",
     "output_type": "stream",
     "text": [
      "softmax on raw pixels final test set accuracy: 0.374000\n"
     ]
    }
   ],
   "source": [
    "# evaluate on test set\n",
    "# Evaluate the best softmax on test set\n",
    "y_test_pred = best_softmax.predict(X_test)\n",
    "test_accuracy = np.mean(y_test == y_test_pred)\n",
    "print('softmax on raw pixels final test set accuracy: %f' % (test_accuracy, ))"
   ]
  },
  {
   "cell_type": "code",
   "execution_count": 29,
   "metadata": {},
   "outputs": [
    {
     "data": {
      "image/png": "[encoded data removed]",
      "text/plain": [
       "<matplotlib.figure.Figure at 0x7f38ff5e5ba8>"
      ]
     },
     "metadata": {},
     "output_type": "display_data"
    }
   ],
   "source": [
    "# Visualize the learned weights for each class\n",
    "w = best_softmax.W[:-1,:] # strip out the bias\n",
    "w = w.reshape(32, 32, 3, 10)\n",
    "\n",
    "w_min, w_max = np.min(w), np.max(w)\n",
    "\n",
    "classes = ['plane', 'car', 'bird', 'cat', 'deer', 'dog', 'frog', 'horse', 'ship', 'truck']\n",
    "for i in range(10):\n",
    "    plt.subplot(2, 5, i + 1)\n",
    "    \n",
    "    # Rescale the weights to be between 0 and 255\n",
    "    wimg = 255.0 * (w[:, :, :, i].squeeze() - w_min) / (w_max - w_min)\n",
    "    plt.imshow(wimg.astype('uint8'))\n",
    "    plt.axis('off')\n",
    "    plt.title(classes[i])"
   ]
  },
  {
   "cell_type": "markdown",
   "metadata": {},
   "source": [
    "The overall accuracy is similar to an SVM, as are the template images. The most notable difference is that the template images found by the softmax classifier are more finely pixelated than those found by the SVM. That is, the underlying templates look similar but the softmax versions have substantial speckle noise while the SVM versions are blurred.\n",
    "\n",
    "My best guess as to why is that the softmax classifier never tends to zero gradient. Thus, the more we run the training loop, the more it will make small adjustments to the weights in the classifier. This won't change the coarse structure, but probably results in a lot of small intra-template variations."
   ]
  },
  {
   "cell_type": "code",
   "execution_count": null,
   "metadata": {
    "collapsed": true
   },
   "outputs": [],
   "source": []
  }
 ],
 "metadata": {
  "kernelspec": {
   "display_name": "Python 3",
   "language": "python",
   "name": "python3"
  },
  "language_info": {
   "codemirror_mode": {
    "name": "ipython",
    "version": 3
   },
   "file_extension": ".py",
   "mimetype": "text/x-python",
   "name": "python",
   "nbconvert_exporter": "python",
   "pygments_lexer": "ipython3",
   "version": "3.6.4"
  }
 },
 "nbformat": 4,
 "nbformat_minor": 1
}
